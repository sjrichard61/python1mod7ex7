{
 "cells": [
  {
   "cell_type": "markdown",
   "metadata": {},
   "source": [
    "### Exercise 1\n",
    "Ask a user to enter a number. If the number is positive, print <b>Positive number</b>. Otherwise, do not print any message. Finally, print 'goodbye' message at the end."
   ]
  },
  {
   "cell_type": "code",
   "execution_count": 4,
   "metadata": {},
   "outputs": [
    {
     "name": "stdin",
     "output_type": "stream",
     "text": [
      "Enter a number: 88.999\n"
     ]
    },
    {
     "name": "stdout",
     "output_type": "stream",
     "text": [
      "Positive number.\n",
      "Goodbye\n"
     ]
    }
   ],
   "source": [
    "num1 = float(input(\"Enter a number:\"))  #get a number form user\n",
    "if num1 > 0 :                           #check if number is positive\n",
    "    print(\"Positive number.\")           #if it's positive, say so\n",
    "print(\"Goodbye\")"
   ]
  },
  {
   "cell_type": "code",
   "execution_count": 9,
   "metadata": {},
   "outputs": [
    {
     "name": "stdin",
     "output_type": "stream",
     "text": [
      "Enter a number: -5.5\n"
     ]
    },
    {
     "name": "stdout",
     "output_type": "stream",
     "text": [
      "Goodbye\n"
     ]
    }
   ],
   "source": [
    "num1 = float(input(\"Enter a number:\"))  #get a number form user\n",
    "if num1 > 0 :                           #check if number is positive\n",
    "    print(\"Positive number.\")           #if it's positive, say so\n",
    "print(\"Goodbye\")"
   ]
  },
  {
   "cell_type": "markdown",
   "metadata": {},
   "source": [
    "### Exercise 2\n",
    "Ask for a code and store that answer. \n",
    "If the answer is grey then print out if you found secret code.\n",
    "Otherwise print out the code is not the secret code."
   ]
  },
  {
   "cell_type": "code",
   "execution_count": 7,
   "metadata": {},
   "outputs": [
    {
     "name": "stdin",
     "output_type": "stream",
     "text": [
      "Enter a code: grey\n"
     ]
    },
    {
     "name": "stdout",
     "output_type": "stream",
     "text": [
      "You found the secret code!\n"
     ]
    }
   ],
   "source": [
    "code = input(\"Enter a code:\")\n",
    "if code == \"grey\" :\n",
    "    print(f\"You found the secret code!\")\n",
    "else :\n",
    "    print(f\"The code you entered is not the secret code.\")"
   ]
  },
  {
   "cell_type": "code",
   "execution_count": 13,
   "metadata": {},
   "outputs": [
    {
     "name": "stdin",
     "output_type": "stream",
     "text": [
      "Enter a code: blue\n"
     ]
    },
    {
     "name": "stdout",
     "output_type": "stream",
     "text": [
      "The code you entered is not the secret code.\n"
     ]
    }
   ],
   "source": [
    "code = input(\"Enter a code:\")\n",
    "if code == \"grey\" :\n",
    "    print(f\"You found the secret code!\")\n",
    "else :\n",
    "    print(f\"The code you entered is not the secret code.\")"
   ]
  },
  {
   "cell_type": "code",
   "execution_count": null,
   "metadata": {},
   "outputs": [],
   "source": []
  },
  {
   "cell_type": "markdown",
   "metadata": {},
   "source": [
    "### Exercise 3\n",
    "\n",
    "Ask a user to enter a phrase. If the word contains a number, display the \"Number found\" message. Otherwise, show the \"Number not found\" message. "
   ]
  },
  {
   "cell_type": "code",
   "execution_count": 76,
   "metadata": {},
   "outputs": [
    {
     "name": "stdin",
     "output_type": "stream",
     "text": [
      "Enter any phrase you like: Go for it!\n"
     ]
    },
    {
     "name": "stdout",
     "output_type": "stream",
     "text": [
      "Number not found.\n"
     ]
    }
   ],
   "source": [
    "phrase = input (\"Enter any phrase you like:\")\n",
    "if phrase.count(\"1\")>0 or phrase.count(\"2\")>0 or phrase.count(\"3\")>0 or phrase.count(\"4\")>0 or phrase.count(\"5\")>0 or phrase.count(\"6\")>0 or phrase.count(\"7\")>0 or phrase.count(\"8\")>0 or phrase.count(\"9\")>0 :\n",
    "    print(\"Number found.\")\n",
    "else :\n",
    "    print(\"Number not found.\")"
   ]
  },
  {
   "cell_type": "code",
   "execution_count": 90,
   "metadata": {},
   "outputs": [
    {
     "name": "stdin",
     "output_type": "stream",
     "text": [
      "Enter any phrase you like: We're number 1!\n"
     ]
    },
    {
     "name": "stdout",
     "output_type": "stream",
     "text": [
      "Number found.\n"
     ]
    }
   ],
   "source": [
    "phrase = input (\"Enter any phrase you like:\")\n",
    "if phrase.count(\"1\")>0 or phrase.count(\"2\")>0 or phrase.count(\"3\")>0 or phrase.count(\"4\")>0 or phrase.count(\"5\")>0 or phrase.count(\"6\")>0 or phrase.count(\"7\")>0 or phrase.count(\"8\")>0 or phrase.count(\"9\")>0 :\n",
    "    print(\"Number found.\")\n",
    "else :\n",
    "    print(\"Number not found.\")"
   ]
  },
  {
   "cell_type": "code",
   "execution_count": null,
   "metadata": {},
   "outputs": [],
   "source": []
  },
  {
   "cell_type": "markdown",
   "metadata": {},
   "source": [
    "### Exercise 4\n",
    "\n",
    "Ask a user to enter a number. Then, only if the number is divisible by 2 and 3, show the result of the number divided by two and three in a formated string. The output should look something like this:\n",
    "        \n",
    "    Enter a number: 2\n",
    "    Bye    \n",
    "    \n",
    "    Enter a number: 60\n",
    "    60 / 2 = 30.0\n",
    "    60 / 3 = 20.0\n",
    "    Bye\n",
    "    \n",
    "    Enter a number: 3\n",
    "    Bye\n",
    "    \n",
    "    Enter a number: 10\n",
    "    Bye    "
   ]
  },
  {
   "cell_type": "code",
   "execution_count": 82,
   "metadata": {},
   "outputs": [
    {
     "name": "stdin",
     "output_type": "stream",
     "text": [
      "Enter a number: 60\n"
     ]
    },
    {
     "name": "stdout",
     "output_type": "stream",
     "text": [
      "60 / 2 = 30.0\n",
      "60 / 3 = 20.0\n",
      "Bye\n"
     ]
    }
   ],
   "source": [
    "num2 = int(input(\"Enter a number:\"))\n",
    "if (num2%2==0) and (num2%3==0):\n",
    "    print(f\"{num2} / 2 =\",num2/2)\n",
    "    print(f\"{num2} / 3 =\",num2/3)\n",
    "print(\"Bye\")"
   ]
  },
  {
   "cell_type": "code",
   "execution_count": 83,
   "metadata": {},
   "outputs": [
    {
     "name": "stdin",
     "output_type": "stream",
     "text": [
      "Enter a number: 3\n"
     ]
    },
    {
     "name": "stdout",
     "output_type": "stream",
     "text": [
      "Bye\n"
     ]
    }
   ],
   "source": [
    "num2 = int(input(\"Enter a number:\"))\n",
    "if (num2%2==0) and (num2%3==0):\n",
    "    print(f\"{num2} / 2 =\",num2/2)\n",
    "    print(f\"{num2} / 3 =\",num2/3)\n",
    "print(\"Bye\")"
   ]
  },
  {
   "cell_type": "code",
   "execution_count": null,
   "metadata": {},
   "outputs": [],
   "source": []
  },
  {
   "cell_type": "markdown",
   "metadata": {},
   "source": [
    "### Exercise 5\n",
    "Ask a user to enter a number. Determine if the number is zero, positive or negative. Use only <b>if</b> and <b>else</b> statements. \n",
    "    "
   ]
  },
  {
   "cell_type": "code",
   "execution_count": 84,
   "metadata": {},
   "outputs": [
    {
     "name": "stdin",
     "output_type": "stream",
     "text": [
      "Enter a number: 1\n"
     ]
    },
    {
     "name": "stdout",
     "output_type": "stream",
     "text": [
      "Number is positive.\n",
      "Bye.\n"
     ]
    }
   ],
   "source": [
    "num3 = int(input(\"Enter a number:\"))\n",
    "if num3==0 :\n",
    "    print(\"Number is zero.\")\n",
    "else :\n",
    "    if num3>0 :\n",
    "        print(\"Number is positive.\")\n",
    "    else :\n",
    "        print(\"Number is negative.\")\n",
    "print(\"Bye.\")"
   ]
  },
  {
   "cell_type": "code",
   "execution_count": 85,
   "metadata": {},
   "outputs": [
    {
     "name": "stdin",
     "output_type": "stream",
     "text": [
      "Enter a number: 0\n"
     ]
    },
    {
     "name": "stdout",
     "output_type": "stream",
     "text": [
      "Number is zero.\n",
      "Bye.\n"
     ]
    }
   ],
   "source": [
    "num3 = int(input(\"Enter a number:\"))\n",
    "if num3==0 :\n",
    "    print(\"Number is zero.\")\n",
    "else :\n",
    "    if num3>0 :\n",
    "        print(\"Number is positive.\")\n",
    "    else :\n",
    "        print(\"Number is negative.\")\n",
    "print(\"Bye.\")"
   ]
  },
  {
   "cell_type": "code",
   "execution_count": 86,
   "metadata": {},
   "outputs": [
    {
     "name": "stdin",
     "output_type": "stream",
     "text": [
      "Enter a number: -5\n"
     ]
    },
    {
     "name": "stdout",
     "output_type": "stream",
     "text": [
      "Number is negative.\n",
      "Bye.\n"
     ]
    }
   ],
   "source": [
    "num3 = int(input(\"Enter a number:\"))\n",
    "if num3==0 :\n",
    "    print(\"Number is zero.\")\n",
    "else :\n",
    "    if num3>0 :\n",
    "        print(\"Number is positive.\")\n",
    "    else :\n",
    "        print(\"Number is negative.\")\n",
    "print(\"Bye.\")"
   ]
  },
  {
   "cell_type": "code",
   "execution_count": null,
   "metadata": {},
   "outputs": [],
   "source": []
  }
 ],
 "metadata": {
  "kernelspec": {
   "display_name": "Python 3 (ipykernel)",
   "language": "python",
   "name": "python3"
  },
  "language_info": {
   "codemirror_mode": {
    "name": "ipython",
    "version": 3
   },
   "file_extension": ".py",
   "mimetype": "text/x-python",
   "name": "python",
   "nbconvert_exporter": "python",
   "pygments_lexer": "ipython3",
   "version": "3.11.7"
  }
 },
 "nbformat": 4,
 "nbformat_minor": 4
}
